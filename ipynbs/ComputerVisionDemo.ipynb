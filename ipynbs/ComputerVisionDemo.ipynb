{
 "cells": [
  {
   "cell_type": "code",
   "execution_count": 3,
   "metadata": {
    "collapsed": true
   },
   "outputs": [],
   "source": [
    "import requests"
   ]
  },
  {
   "cell_type": "code",
   "execution_count": 4,
   "metadata": {
    "collapsed": true
   },
   "outputs": [],
   "source": [
    "headers = {\n",
    "    \"Content-Type\": \"application/json\",\n",
    "    \"Ocp-Apim-Subscription-Key\": \"\"\n",
    "}"
   ]
  },
  {
   "cell_type": "code",
   "execution_count": 5,
   "metadata": {
    "collapsed": true
   },
   "outputs": [],
   "source": [
    "api_url = \"https://westus.api.cognitive.microsoft.com/vision/v1.0/describe?maxCandidates=1\""
   ]
  },
  {
   "cell_type": "markdown",
   "metadata": {},
   "source": [
    "## https://pyladiesbot2.blob.core.windows.net/c3h3bot3/image/line/5905012523504.jpeg\n",
    "![](https://pyladiesbot2.blob.core.windows.net/c3h3bot3/image/line/5905012523504.jpeg)"
   ]
  },
  {
   "cell_type": "code",
   "execution_count": 6,
   "metadata": {
    "collapsed": true
   },
   "outputs": [],
   "source": [
    "body = {\"url\":\"https://pyladiesbot2.blob.core.windows.net/c3h3bot3/image/line/5905012523504.jpeg\"}"
   ]
  },
  {
   "cell_type": "code",
   "execution_count": 7,
   "metadata": {
    "collapsed": true
   },
   "outputs": [],
   "source": [
    "import json"
   ]
  },
  {
   "cell_type": "code",
   "execution_count": 8,
   "metadata": {
    "collapsed": true
   },
   "outputs": [],
   "source": [
    "res = requests.post(api_url, data=json.dumps(body), headers=headers)"
   ]
  },
  {
   "cell_type": "code",
   "execution_count": 9,
   "metadata": {
    "collapsed": false
   },
   "outputs": [
    {
     "data": {
      "text/plain": [
       "{'description': {'captions': [{'confidence': 0.1819548917007286,\n",
       "    'text': 'a laptop sitting on a table'}],\n",
       "  'tags': ['indoor',\n",
       "   'table',\n",
       "   'sitting',\n",
       "   'computer',\n",
       "   'open',\n",
       "   'wooden',\n",
       "   'top',\n",
       "   'desk',\n",
       "   'laptop',\n",
       "   'clock',\n",
       "   'laying',\n",
       "   'white',\n",
       "   'display',\n",
       "   'mouse',\n",
       "   'phone',\n",
       "   'man']},\n",
       " 'metadata': {'format': 'Jpeg', 'height': 1024, 'width': 576},\n",
       " 'requestId': '361a479e-f94d-4176-8734-735a838a63b0'}"
      ]
     },
     "execution_count": 9,
     "metadata": {},
     "output_type": "execute_result"
    }
   ],
   "source": [
    "res.json()"
   ]
  },
  {
   "cell_type": "code",
   "execution_count": null,
   "metadata": {
    "collapsed": true
   },
   "outputs": [],
   "source": []
  }
 ],
 "metadata": {
  "kernelspec": {
   "display_name": "Python 3",
   "language": "python",
   "name": "python3"
  },
  "language_info": {
   "codemirror_mode": {
    "name": "ipython",
    "version": 3
   },
   "file_extension": ".py",
   "mimetype": "text/x-python",
   "name": "python",
   "nbconvert_exporter": "python",
   "pygments_lexer": "ipython3",
   "version": "3.6.0"
  }
 },
 "nbformat": 4,
 "nbformat_minor": 2
}

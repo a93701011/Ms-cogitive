{
 "cells": [
  {
   "cell_type": "code",
   "execution_count": 1,
   "metadata": {
    "collapsed": true
   },
   "outputs": [],
   "source": [
    "import requests"
   ]
  },
  {
   "cell_type": "code",
   "execution_count": 2,
   "metadata": {
    "collapsed": true
   },
   "outputs": [],
   "source": [
    "headers = {\n",
    "    \"Content-Type\": \"application/json\",\n",
    "    \"Ocp-Apim-Subscription-Key\": \"\"\n",
    "}"
   ]
  },
  {
   "cell_type": "code",
   "execution_count": 3,
   "metadata": {
    "collapsed": true
   },
   "outputs": [],
   "source": [
    "api_url = \"https://westus.api.cognitive.microsoft.com/text/analytics/v2.0/keyPhrases\""
   ]
  },
  {
   "cell_type": "code",
   "execution_count": 4,
   "metadata": {
    "collapsed": true
   },
   "outputs": [],
   "source": [
    "body = {\n",
    "  \"documents\": [\n",
    "    {\n",
    "      \"language\": \"en\",\n",
    "      \"id\": \"1\",\n",
    "      \"text\": \"Very  bad hotel, room was very bad smells,  shower was very bad from now I never go to westbetern hotels.\"\n",
    "    },{\n",
    "      \"language\": \"ja\",\n",
    "      \"id\": \"2\",\n",
    "      \"text\": \"\"\" 俳優の故・三船敏郎さんが米ハリウッドの殿堂「ウォーク・オブ・フェーム」（名声の歩道）入りする記念式典が１４日、ロサンゼルスで開かれ、三船さんの名前入りの星形プレートが披露された。三船さんは、黒澤明監督の「七人の侍」などで、世界的に有名になった。\n",
    "　地元メディアによると、殿堂入りは２５９４番目。日本関係者は、米国で活躍した俳優の早川雪洲さん、マコ岩松さんのほか、怪獣ゴジラが選ばれている。今回の式典には、三船さんの親族らが出席した。\n",
    "　三船さんは１９９７年に７７歳でなくなるまで、「用心棒」「赤ひげ」「羅生門」など生涯で１５０本以上の映画に出演。国際的スターとなり、「世界で最も知られた日本人俳優」と評価された。（平山亜理） \"\"\"\n",
    "    }\n",
    "  ]\n",
    "}"
   ]
  },
  {
   "cell_type": "code",
   "execution_count": 7,
   "metadata": {
    "collapsed": true
   },
   "outputs": [],
   "source": [
    "import json"
   ]
  },
  {
   "cell_type": "code",
   "execution_count": 8,
   "metadata": {
    "collapsed": true
   },
   "outputs": [],
   "source": [
    "res = requests.post(api_url, data=json.dumps(body), headers=headers)"
   ]
  },
  {
   "cell_type": "code",
   "execution_count": 11,
   "metadata": {
    "collapsed": false
   },
   "outputs": [
    {
     "data": {
      "text/plain": [
       "{'documents': [{'id': '1',\n",
       "   'keyPhrases': ['bad smells',\n",
       "    'bad hotel',\n",
       "    'room',\n",
       "    'westbetern hotels',\n",
       "    'shower']},\n",
       "  {'id': '2',\n",
       "   'keyPhrases': ['三船敏郎',\n",
       "    '殿堂入り',\n",
       "    '名前入り',\n",
       "    '日本人俳優',\n",
       "    '世界',\n",
       "    '記念式典',\n",
       "    'マコ岩松',\n",
       "    '活躍',\n",
       "    '米ハリウッド',\n",
       "    '早川雪洲',\n",
       "    '星形プレート',\n",
       "    '生涯',\n",
       "    'フェーム',\n",
       "    'オブ',\n",
       "    'ウォーク',\n",
       "    '米国',\n",
       "    '名声',\n",
       "    '歩道',\n",
       "    '羅生門',\n",
       "    'ひげ',\n",
       "    '映画',\n",
       "    '以上',\n",
       "    'ほか',\n",
       "    '披露',\n",
       "    '日本関係者',\n",
       "    '怪獣ゴジラ',\n",
       "    '出演',\n",
       "    'スター',\n",
       "    '評価',\n",
       "    '監督',\n",
       "    'ロサンゼルス',\n",
       "    '地元メディア',\n",
       "    '親族',\n",
       "    '出席',\n",
       "    '黒澤',\n",
       "    '平山亜理',\n",
       "    '用心棒']}],\n",
       " 'errors': []}"
      ]
     },
     "execution_count": 11,
     "metadata": {},
     "output_type": "execute_result"
    }
   ],
   "source": [
    "res.json()"
   ]
  },
  {
   "cell_type": "code",
   "execution_count": null,
   "metadata": {
    "collapsed": true
   },
   "outputs": [],
   "source": []
  }
 ],
 "metadata": {
  "kernelspec": {
   "display_name": "Python 3",
   "language": "python",
   "name": "python3"
  },
  "language_info": {
   "codemirror_mode": {
    "name": "ipython",
    "version": 3
   },
   "file_extension": ".py",
   "mimetype": "text/x-python",
   "name": "python",
   "nbconvert_exporter": "python",
   "pygments_lexer": "ipython3",
   "version": "3.6.0"
  }
 },
 "nbformat": 4,
 "nbformat_minor": 2
}
